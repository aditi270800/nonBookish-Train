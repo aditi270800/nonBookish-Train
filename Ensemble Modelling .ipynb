{
 "cells": [
  {
   "cell_type": "code",
   "execution_count": 1,
   "metadata": {},
   "outputs": [],
   "source": [
    "#importing the libraries\n",
    "import pandas as pd\n",
    "import numpy as np\n",
    "import matplotlib.pyplot as plt\n",
    "import seaborn as sns\n",
    "from sklearn.model_selection import GridSearchCV\n",
    "from sklearn.metrics import accuracy_score\n",
    "\n",
    "#To ignore warnings\n",
    "import warnings\n",
    "from sklearn.exceptions import DataConversionWarning\n",
    "warnings.filterwarnings(action='ignore', category=DataConversionWarning) "
   ]
  },
  {
   "cell_type": "code",
   "execution_count": 2,
   "metadata": {},
   "outputs": [],
   "source": [
    "#reading the dataset\n",
    "df= pd.read_csv(\"bankloan.csv\")"
   ]
  },
  {
   "cell_type": "code",
   "execution_count": 3,
   "metadata": {
    "scrolled": true
   },
   "outputs": [
    {
     "data": {
      "text/html": [
       "<div>\n",
       "<style scoped>\n",
       "    .dataframe tbody tr th:only-of-type {\n",
       "        vertical-align: middle;\n",
       "    }\n",
       "\n",
       "    .dataframe tbody tr th {\n",
       "        vertical-align: top;\n",
       "    }\n",
       "\n",
       "    .dataframe thead th {\n",
       "        text-align: right;\n",
       "    }\n",
       "</style>\n",
       "<table border=\"1\" class=\"dataframe\">\n",
       "  <thead>\n",
       "    <tr style=\"text-align: right;\">\n",
       "      <th></th>\n",
       "      <th>entry_id</th>\n",
       "      <th>age</th>\n",
       "      <th>pay_schedule</th>\n",
       "      <th>home_owner</th>\n",
       "      <th>income</th>\n",
       "      <th>months_employed</th>\n",
       "      <th>years_employed</th>\n",
       "      <th>current_address_year</th>\n",
       "      <th>personal_account_m</th>\n",
       "      <th>personal_account_y</th>\n",
       "      <th>...</th>\n",
       "      <th>amount_requested</th>\n",
       "      <th>risk_score</th>\n",
       "      <th>risk_score_2</th>\n",
       "      <th>risk_score_3</th>\n",
       "      <th>risk_score_4</th>\n",
       "      <th>risk_score_5</th>\n",
       "      <th>ext_quality_score</th>\n",
       "      <th>ext_quality_score_2</th>\n",
       "      <th>inquiries_last_month</th>\n",
       "      <th>e_signed</th>\n",
       "    </tr>\n",
       "  </thead>\n",
       "  <tbody>\n",
       "    <tr>\n",
       "      <th>0</th>\n",
       "      <td>7629673</td>\n",
       "      <td>40</td>\n",
       "      <td>bi-weekly</td>\n",
       "      <td>1</td>\n",
       "      <td>3135</td>\n",
       "      <td>0</td>\n",
       "      <td>3</td>\n",
       "      <td>3</td>\n",
       "      <td>6</td>\n",
       "      <td>2</td>\n",
       "      <td>...</td>\n",
       "      <td>550</td>\n",
       "      <td>36200</td>\n",
       "      <td>0.737398</td>\n",
       "      <td>0.903517</td>\n",
       "      <td>0.487712</td>\n",
       "      <td>0.515977</td>\n",
       "      <td>0.580918</td>\n",
       "      <td>0.380918</td>\n",
       "      <td>10</td>\n",
       "      <td>1</td>\n",
       "    </tr>\n",
       "    <tr>\n",
       "      <th>1</th>\n",
       "      <td>3560428</td>\n",
       "      <td>61</td>\n",
       "      <td>weekly</td>\n",
       "      <td>0</td>\n",
       "      <td>3180</td>\n",
       "      <td>0</td>\n",
       "      <td>6</td>\n",
       "      <td>3</td>\n",
       "      <td>2</td>\n",
       "      <td>7</td>\n",
       "      <td>...</td>\n",
       "      <td>600</td>\n",
       "      <td>30150</td>\n",
       "      <td>0.738510</td>\n",
       "      <td>0.881027</td>\n",
       "      <td>0.713423</td>\n",
       "      <td>0.826402</td>\n",
       "      <td>0.730720</td>\n",
       "      <td>0.630720</td>\n",
       "      <td>9</td>\n",
       "      <td>0</td>\n",
       "    </tr>\n",
       "    <tr>\n",
       "      <th>2</th>\n",
       "      <td>6934997</td>\n",
       "      <td>23</td>\n",
       "      <td>weekly</td>\n",
       "      <td>0</td>\n",
       "      <td>1540</td>\n",
       "      <td>6</td>\n",
       "      <td>0</td>\n",
       "      <td>0</td>\n",
       "      <td>7</td>\n",
       "      <td>1</td>\n",
       "      <td>...</td>\n",
       "      <td>450</td>\n",
       "      <td>34550</td>\n",
       "      <td>0.642993</td>\n",
       "      <td>0.766554</td>\n",
       "      <td>0.595018</td>\n",
       "      <td>0.762284</td>\n",
       "      <td>0.531712</td>\n",
       "      <td>0.531712</td>\n",
       "      <td>7</td>\n",
       "      <td>0</td>\n",
       "    </tr>\n",
       "    <tr>\n",
       "      <th>3</th>\n",
       "      <td>5682812</td>\n",
       "      <td>40</td>\n",
       "      <td>bi-weekly</td>\n",
       "      <td>0</td>\n",
       "      <td>5230</td>\n",
       "      <td>0</td>\n",
       "      <td>6</td>\n",
       "      <td>1</td>\n",
       "      <td>2</td>\n",
       "      <td>7</td>\n",
       "      <td>...</td>\n",
       "      <td>700</td>\n",
       "      <td>42150</td>\n",
       "      <td>0.665224</td>\n",
       "      <td>0.960832</td>\n",
       "      <td>0.767828</td>\n",
       "      <td>0.778831</td>\n",
       "      <td>0.792552</td>\n",
       "      <td>0.592552</td>\n",
       "      <td>8</td>\n",
       "      <td>1</td>\n",
       "    </tr>\n",
       "    <tr>\n",
       "      <th>4</th>\n",
       "      <td>5335819</td>\n",
       "      <td>33</td>\n",
       "      <td>semi-monthly</td>\n",
       "      <td>0</td>\n",
       "      <td>3590</td>\n",
       "      <td>0</td>\n",
       "      <td>5</td>\n",
       "      <td>2</td>\n",
       "      <td>2</td>\n",
       "      <td>8</td>\n",
       "      <td>...</td>\n",
       "      <td>1100</td>\n",
       "      <td>53850</td>\n",
       "      <td>0.617361</td>\n",
       "      <td>0.857560</td>\n",
       "      <td>0.613487</td>\n",
       "      <td>0.665523</td>\n",
       "      <td>0.744634</td>\n",
       "      <td>0.744634</td>\n",
       "      <td>12</td>\n",
       "      <td>0</td>\n",
       "    </tr>\n",
       "  </tbody>\n",
       "</table>\n",
       "<p>5 rows × 21 columns</p>\n",
       "</div>"
      ],
      "text/plain": [
       "   entry_id  age  pay_schedule  home_owner  income  months_employed  \\\n",
       "0   7629673   40     bi-weekly           1    3135                0   \n",
       "1   3560428   61        weekly           0    3180                0   \n",
       "2   6934997   23        weekly           0    1540                6   \n",
       "3   5682812   40     bi-weekly           0    5230                0   \n",
       "4   5335819   33  semi-monthly           0    3590                0   \n",
       "\n",
       "   years_employed  current_address_year  personal_account_m  \\\n",
       "0               3                     3                   6   \n",
       "1               6                     3                   2   \n",
       "2               0                     0                   7   \n",
       "3               6                     1                   2   \n",
       "4               5                     2                   2   \n",
       "\n",
       "   personal_account_y  ...  amount_requested  risk_score  risk_score_2  \\\n",
       "0                   2  ...               550       36200      0.737398   \n",
       "1                   7  ...               600       30150      0.738510   \n",
       "2                   1  ...               450       34550      0.642993   \n",
       "3                   7  ...               700       42150      0.665224   \n",
       "4                   8  ...              1100       53850      0.617361   \n",
       "\n",
       "   risk_score_3  risk_score_4  risk_score_5  ext_quality_score  \\\n",
       "0      0.903517      0.487712      0.515977           0.580918   \n",
       "1      0.881027      0.713423      0.826402           0.730720   \n",
       "2      0.766554      0.595018      0.762284           0.531712   \n",
       "3      0.960832      0.767828      0.778831           0.792552   \n",
       "4      0.857560      0.613487      0.665523           0.744634   \n",
       "\n",
       "   ext_quality_score_2  inquiries_last_month  e_signed  \n",
       "0             0.380918                    10         1  \n",
       "1             0.630720                     9         0  \n",
       "2             0.531712                     7         0  \n",
       "3             0.592552                     8         1  \n",
       "4             0.744634                    12         0  \n",
       "\n",
       "[5 rows x 21 columns]"
      ]
     },
     "execution_count": 3,
     "metadata": {},
     "output_type": "execute_result"
    }
   ],
   "source": [
    "#printing the top 5 rows of the dataset\n",
    "df.head()"
   ]
  },
  {
   "cell_type": "code",
   "execution_count": 4,
   "metadata": {},
   "outputs": [
    {
     "data": {
      "text/plain": [
       "pandas.core.frame.DataFrame"
      ]
     },
     "execution_count": 4,
     "metadata": {},
     "output_type": "execute_result"
    }
   ],
   "source": [
    "#type of dataset\n",
    "type(df)"
   ]
  },
  {
   "cell_type": "code",
   "execution_count": 5,
   "metadata": {},
   "outputs": [
    {
     "data": {
      "text/plain": [
       "entry_id                  int64\n",
       "age                       int64\n",
       "pay_schedule             object\n",
       "home_owner                int64\n",
       "income                    int64\n",
       "months_employed           int64\n",
       "years_employed            int64\n",
       "current_address_year      int64\n",
       "personal_account_m        int64\n",
       "personal_account_y        int64\n",
       "has_debt                  int64\n",
       "amount_requested          int64\n",
       "risk_score                int64\n",
       "risk_score_2            float64\n",
       "risk_score_3            float64\n",
       "risk_score_4            float64\n",
       "risk_score_5            float64\n",
       "ext_quality_score       float64\n",
       "ext_quality_score_2     float64\n",
       "inquiries_last_month      int64\n",
       "e_signed                  int64\n",
       "dtype: object"
      ]
     },
     "execution_count": 5,
     "metadata": {},
     "output_type": "execute_result"
    }
   ],
   "source": [
    "#datatype of each column\n",
    "df.dtypes"
   ]
  },
  {
   "cell_type": "code",
   "execution_count": 6,
   "metadata": {},
   "outputs": [
    {
     "data": {
      "text/plain": [
       "(17908, 21)"
      ]
     },
     "execution_count": 6,
     "metadata": {},
     "output_type": "execute_result"
    }
   ],
   "source": [
    "#shape of the dataset\n",
    "df.shape\n",
    "#from this we can conclude that they are total 17908 rows and 21 columns in our dataset"
   ]
  },
  {
   "cell_type": "code",
   "execution_count": 7,
   "metadata": {},
   "outputs": [
    {
     "data": {
      "text/plain": [
       "entry_id                0\n",
       "age                     0\n",
       "pay_schedule            0\n",
       "home_owner              0\n",
       "income                  0\n",
       "months_employed         0\n",
       "years_employed          0\n",
       "current_address_year    0\n",
       "personal_account_m      0\n",
       "personal_account_y      0\n",
       "has_debt                0\n",
       "amount_requested        0\n",
       "risk_score              0\n",
       "risk_score_2            0\n",
       "risk_score_3            0\n",
       "risk_score_4            0\n",
       "risk_score_5            0\n",
       "ext_quality_score       0\n",
       "ext_quality_score_2     0\n",
       "inquiries_last_month    0\n",
       "e_signed                0\n",
       "dtype: int64"
      ]
     },
     "execution_count": 7,
     "metadata": {},
     "output_type": "execute_result"
    }
   ],
   "source": [
    "#predicting whether there are any values\n",
    "df.isnull().sum()\n",
    "#from this we can conclude that there are no null values in the dataset."
   ]
  },
  {
   "cell_type": "markdown",
   "metadata": {},
   "source": [
    "# Q1 Will the customer take loan or not? (predicting e.signed)"
   ]
  },
  {
   "cell_type": "code",
   "execution_count": 8,
   "metadata": {},
   "outputs": [
    {
     "data": {
      "text/plain": [
       "1    9639\n",
       "0    8269\n",
       "Name: e_signed, dtype: int64"
      ]
     },
     "execution_count": 8,
     "metadata": {},
     "output_type": "execute_result"
    }
   ],
   "source": [
    "#counting no.of customers signed for loan and not signed\n",
    "df.e_signed.value_counts()"
   ]
  },
  {
   "cell_type": "code",
   "execution_count": 9,
   "metadata": {},
   "outputs": [
    {
     "data": {
      "text/plain": [
       "(Index(['entry_id', 'age', 'pay_schedule', 'home_owner', 'income',\n",
       "        'months_employed', 'years_employed', 'current_address_year',\n",
       "        'personal_account_m', 'personal_account_y', 'has_debt',\n",
       "        'amount_requested', 'risk_score', 'risk_score_2', 'risk_score_3',\n",
       "        'risk_score_4', 'risk_score_5', 'ext_quality_score',\n",
       "        'ext_quality_score_2', 'inquiries_last_month', 'e_signed'],\n",
       "       dtype='object'),\n",
       " entry_id                  int64\n",
       " age                       int64\n",
       " pay_schedule             object\n",
       " home_owner                int64\n",
       " income                    int64\n",
       " months_employed           int64\n",
       " years_employed            int64\n",
       " current_address_year      int64\n",
       " personal_account_m        int64\n",
       " personal_account_y        int64\n",
       " has_debt                  int64\n",
       " amount_requested          int64\n",
       " risk_score                int64\n",
       " risk_score_2            float64\n",
       " risk_score_3            float64\n",
       " risk_score_4            float64\n",
       " risk_score_5            float64\n",
       " ext_quality_score       float64\n",
       " ext_quality_score_2     float64\n",
       " inquiries_last_month      int64\n",
       " e_signed                  int64\n",
       " dtype: object)"
      ]
     },
     "execution_count": 9,
     "metadata": {},
     "output_type": "execute_result"
    }
   ],
   "source": [
    "#cols and datatypes of given dataset\n",
    "df.columns,df.dtypes"
   ]
  },
  {
   "cell_type": "code",
   "execution_count": 10,
   "metadata": {},
   "outputs": [
    {
     "data": {
      "text/plain": [
       "{'bi-weekly': 10716, 'weekly': 3696, 'semi-monthly': 2004, 'monthly': 1492}"
      ]
     },
     "execution_count": 10,
     "metadata": {},
     "output_type": "execute_result"
    }
   ],
   "source": [
    "df['pay_schedule'].value_counts().to_dict()"
   ]
  },
  {
   "cell_type": "code",
   "execution_count": 11,
   "metadata": {},
   "outputs": [
    {
     "data": {
      "text/plain": [
       "['pay_schedule']"
      ]
     },
     "execution_count": 11,
     "metadata": {},
     "output_type": "execute_result"
    }
   ],
   "source": [
    "#predicting the categorical features in the dataset\n",
    "cat_feature=[col for col in df.columns if df[col].dtypes=='O']\n",
    "cat_feature\n",
    "#from this we can say only pay_schedule is the categorical variable"
   ]
  },
  {
   "cell_type": "code",
   "execution_count": 12,
   "metadata": {},
   "outputs": [
    {
     "data": {
      "text/plain": [
       "['entry_id',\n",
       " 'age',\n",
       " 'home_owner',\n",
       " 'income',\n",
       " 'months_employed',\n",
       " 'years_employed',\n",
       " 'current_address_year',\n",
       " 'personal_account_m',\n",
       " 'personal_account_y',\n",
       " 'has_debt',\n",
       " 'amount_requested',\n",
       " 'risk_score',\n",
       " 'risk_score_2',\n",
       " 'risk_score_3',\n",
       " 'risk_score_4',\n",
       " 'risk_score_5',\n",
       " 'ext_quality_score',\n",
       " 'ext_quality_score_2',\n",
       " 'inquiries_last_month',\n",
       " 'e_signed']"
      ]
     },
     "execution_count": 12,
     "metadata": {},
     "output_type": "execute_result"
    }
   ],
   "source": [
    "#non_categorical variables\n",
    "noncat_feature=[col for col in df.columns if df[col].dtypes!='O']\n",
    "noncat_feature"
   ]
  },
  {
   "cell_type": "code",
   "execution_count": 13,
   "metadata": {},
   "outputs": [],
   "source": [
    "#taking the olp variable into variable y\n",
    "data=df.drop(labels=\"e_signed\",axis=1)\n",
    "y=df['e_signed']"
   ]
  },
  {
   "cell_type": "code",
   "execution_count": 14,
   "metadata": {
    "scrolled": true
   },
   "outputs": [
    {
     "data": {
      "image/png": "[encoded data removed]",
      "text/plain": [
       "<Figure size 864x648 with 2 Axes>"
      ]
     },
     "metadata": {
      "needs_background": "light"
     },
     "output_type": "display_data"
    }
   ],
   "source": [
    "#calcualting the correlation using heatmap\n",
    "corrmat=df.corr()\n",
    "fig = plt.figure(figsize = (12,9))\n",
    "\n",
    "sns.heatmap(corrmat, vmax =.8, square=True)\n",
    "plt.show()\n",
    "#from this we can conclude that every feature is independent and there is no high corelation blw the features"
   ]
  },
  {
   "cell_type": "code",
   "execution_count": 15,
   "metadata": {},
   "outputs": [
    {
     "data": {
      "text/html": [
       "<div>\n",
       "<style scoped>\n",
       "    .dataframe tbody tr th:only-of-type {\n",
       "        vertical-align: middle;\n",
       "    }\n",
       "\n",
       "    .dataframe tbody tr th {\n",
       "        vertical-align: top;\n",
       "    }\n",
       "\n",
       "    .dataframe thead th {\n",
       "        text-align: right;\n",
       "    }\n",
       "</style>\n",
       "<table border=\"1\" class=\"dataframe\">\n",
       "  <thead>\n",
       "    <tr style=\"text-align: right;\">\n",
       "      <th></th>\n",
       "      <th>entry_id</th>\n",
       "      <th>age</th>\n",
       "      <th>home_owner</th>\n",
       "      <th>income</th>\n",
       "      <th>months_employed</th>\n",
       "      <th>years_employed</th>\n",
       "      <th>current_address_year</th>\n",
       "      <th>personal_account_m</th>\n",
       "      <th>personal_account_y</th>\n",
       "      <th>has_debt</th>\n",
       "      <th>amount_requested</th>\n",
       "      <th>risk_score</th>\n",
       "      <th>risk_score_2</th>\n",
       "      <th>risk_score_3</th>\n",
       "      <th>risk_score_4</th>\n",
       "      <th>risk_score_5</th>\n",
       "      <th>ext_quality_score</th>\n",
       "      <th>ext_quality_score_2</th>\n",
       "      <th>inquiries_last_month</th>\n",
       "      <th>e_signed</th>\n",
       "    </tr>\n",
       "  </thead>\n",
       "  <tbody>\n",
       "    <tr>\n",
       "      <th>entry_id</th>\n",
       "      <td>1.000000</td>\n",
       "      <td>0.004333</td>\n",
       "      <td>0.002528</td>\n",
       "      <td>-0.009034</td>\n",
       "      <td>0.015546</td>\n",
       "      <td>-0.000950</td>\n",
       "      <td>-0.001701</td>\n",
       "      <td>-0.000515</td>\n",
       "      <td>-0.007721</td>\n",
       "      <td>0.007476</td>\n",
       "      <td>0.001720</td>\n",
       "      <td>0.006780</td>\n",
       "      <td>0.013761</td>\n",
       "      <td>-0.005550</td>\n",
       "      <td>0.006963</td>\n",
       "      <td>0.004949</td>\n",
       "      <td>0.006025</td>\n",
       "      <td>0.006392</td>\n",
       "      <td>-0.003492</td>\n",
       "      <td>0.002735</td>\n",
       "    </tr>\n",
       "    <tr>\n",
       "      <th>age</th>\n",
       "      <td>0.004333</td>\n",
       "      <td>1.000000</td>\n",
       "      <td>0.142046</td>\n",
       "      <td>0.174062</td>\n",
       "      <td>-0.103635</td>\n",
       "      <td>0.182590</td>\n",
       "      <td>0.146554</td>\n",
       "      <td>-0.013609</td>\n",
       "      <td>0.041332</td>\n",
       "      <td>-0.043808</td>\n",
       "      <td>0.084132</td>\n",
       "      <td>0.162868</td>\n",
       "      <td>-0.019163</td>\n",
       "      <td>0.111258</td>\n",
       "      <td>0.069191</td>\n",
       "      <td>0.093710</td>\n",
       "      <td>0.032265</td>\n",
       "      <td>0.040019</td>\n",
       "      <td>0.041224</td>\n",
       "      <td>-0.096998</td>\n",
       "    </tr>\n",
       "    <tr>\n",
       "      <th>home_owner</th>\n",
       "      <td>0.002528</td>\n",
       "      <td>0.142046</td>\n",
       "      <td>1.000000</td>\n",
       "      <td>0.147487</td>\n",
       "      <td>0.018008</td>\n",
       "      <td>0.027367</td>\n",
       "      <td>0.179291</td>\n",
       "      <td>0.013782</td>\n",
       "      <td>-0.047105</td>\n",
       "      <td>-0.076206</td>\n",
       "      <td>0.033996</td>\n",
       "      <td>0.113608</td>\n",
       "      <td>0.000647</td>\n",
       "      <td>0.049708</td>\n",
       "      <td>-0.137293</td>\n",
       "      <td>-0.080470</td>\n",
       "      <td>0.010080</td>\n",
       "      <td>0.005507</td>\n",
       "      <td>0.011215</td>\n",
       "      <td>-0.047409</td>\n",
       "    </tr>\n",
       "    <tr>\n",
       "      <th>income</th>\n",
       "      <td>-0.009034</td>\n",
       "      <td>0.174062</td>\n",
       "      <td>0.147487</td>\n",
       "      <td>1.000000</td>\n",
       "      <td>-0.049157</td>\n",
       "      <td>0.102139</td>\n",
       "      <td>0.046982</td>\n",
       "      <td>0.009052</td>\n",
       "      <td>-0.002002</td>\n",
       "      <td>-0.011199</td>\n",
       "      <td>0.289099</td>\n",
       "      <td>0.168375</td>\n",
       "      <td>-0.023627</td>\n",
       "      <td>0.058665</td>\n",
       "      <td>-0.001254</td>\n",
       "      <td>0.025179</td>\n",
       "      <td>-0.008429</td>\n",
       "      <td>-0.003323</td>\n",
       "      <td>0.051622</td>\n",
       "      <td>0.031377</td>\n",
       "    </tr>\n",
       "    <tr>\n",
       "      <th>months_employed</th>\n",
       "      <td>0.015546</td>\n",
       "      <td>-0.103635</td>\n",
       "      <td>0.018008</td>\n",
       "      <td>-0.049157</td>\n",
       "      <td>1.000000</td>\n",
       "      <td>-0.189805</td>\n",
       "      <td>-0.056609</td>\n",
       "      <td>0.211605</td>\n",
       "      <td>-0.019645</td>\n",
       "      <td>-0.000546</td>\n",
       "      <td>-0.044234</td>\n",
       "      <td>-0.044765</td>\n",
       "      <td>0.028950</td>\n",
       "      <td>-0.024297</td>\n",
       "      <td>-0.014512</td>\n",
       "      <td>-0.019406</td>\n",
       "      <td>-0.009041</td>\n",
       "      <td>-0.004461</td>\n",
       "      <td>-0.026710</td>\n",
       "      <td>0.010128</td>\n",
       "    </tr>\n",
       "    <tr>\n",
       "      <th>years_employed</th>\n",
       "      <td>-0.000950</td>\n",
       "      <td>0.182590</td>\n",
       "      <td>0.027367</td>\n",
       "      <td>0.102139</td>\n",
       "      <td>-0.189805</td>\n",
       "      <td>1.000000</td>\n",
       "      <td>0.343905</td>\n",
       "      <td>-0.052543</td>\n",
       "      <td>0.184879</td>\n",
       "      <td>0.005293</td>\n",
       "      <td>0.084841</td>\n",
       "      <td>0.098960</td>\n",
       "      <td>-0.056574</td>\n",
       "      <td>0.074659</td>\n",
       "      <td>-0.029398</td>\n",
       "      <td>0.000234</td>\n",
       "      <td>0.014162</td>\n",
       "      <td>0.030353</td>\n",
       "      <td>0.011976</td>\n",
       "      <td>0.003748</td>\n",
       "    </tr>\n",
       "    <tr>\n",
       "      <th>current_address_year</th>\n",
       "      <td>-0.001701</td>\n",
       "      <td>0.146554</td>\n",
       "      <td>0.179291</td>\n",
       "      <td>0.046982</td>\n",
       "      <td>-0.056609</td>\n",
       "      <td>0.343905</td>\n",
       "      <td>1.000000</td>\n",
       "      <td>0.082491</td>\n",
       "      <td>0.110258</td>\n",
       "      <td>0.017423</td>\n",
       "      <td>0.067893</td>\n",
       "      <td>0.090535</td>\n",
       "      <td>-0.060412</td>\n",
       "      <td>0.058936</td>\n",
       "      <td>-0.161052</td>\n",
       "      <td>-0.094545</td>\n",
       "      <td>0.003362</td>\n",
       "      <td>0.009093</td>\n",
       "      <td>0.013659</td>\n",
       "      <td>-0.018969</td>\n",
       "    </tr>\n",
       "    <tr>\n",
       "      <th>personal_account_m</th>\n",
       "      <td>-0.000515</td>\n",
       "      <td>-0.013609</td>\n",
       "      <td>0.013782</td>\n",
       "      <td>0.009052</td>\n",
       "      <td>0.211605</td>\n",
       "      <td>-0.052543</td>\n",
       "      <td>0.082491</td>\n",
       "      <td>1.000000</td>\n",
       "      <td>-0.140649</td>\n",
       "      <td>0.246832</td>\n",
       "      <td>-0.046148</td>\n",
       "      <td>-0.044146</td>\n",
       "      <td>-0.023498</td>\n",
       "      <td>0.029162</td>\n",
       "      <td>-0.060695</td>\n",
       "      <td>-0.033960</td>\n",
       "      <td>-0.016151</td>\n",
       "      <td>-0.009181</td>\n",
       "      <td>-0.028225</td>\n",
       "      <td>-0.081195</td>\n",
       "    </tr>\n",
       "    <tr>\n",
       "      <th>personal_account_y</th>\n",
       "      <td>-0.007721</td>\n",
       "      <td>0.041332</td>\n",
       "      <td>-0.047105</td>\n",
       "      <td>-0.002002</td>\n",
       "      <td>-0.019645</td>\n",
       "      <td>0.184879</td>\n",
       "      <td>0.110258</td>\n",
       "      <td>-0.140649</td>\n",
       "      <td>1.000000</td>\n",
       "      <td>-0.030701</td>\n",
       "      <td>0.051857</td>\n",
       "      <td>0.017071</td>\n",
       "      <td>0.027535</td>\n",
       "      <td>0.079175</td>\n",
       "      <td>0.012877</td>\n",
       "      <td>0.042121</td>\n",
       "      <td>0.039808</td>\n",
       "      <td>0.029372</td>\n",
       "      <td>0.003923</td>\n",
       "      <td>-0.024160</td>\n",
       "    </tr>\n",
       "    <tr>\n",
       "      <th>has_debt</th>\n",
       "      <td>0.007476</td>\n",
       "      <td>-0.043808</td>\n",
       "      <td>-0.076206</td>\n",
       "      <td>-0.011199</td>\n",
       "      <td>-0.000546</td>\n",
       "      <td>0.005293</td>\n",
       "      <td>0.017423</td>\n",
       "      <td>0.246832</td>\n",
       "      <td>-0.030701</td>\n",
       "      <td>1.000000</td>\n",
       "      <td>-0.008445</td>\n",
       "      <td>-0.020332</td>\n",
       "      <td>-0.034691</td>\n",
       "      <td>0.001108</td>\n",
       "      <td>0.002074</td>\n",
       "      <td>0.002341</td>\n",
       "      <td>-0.021523</td>\n",
       "      <td>-0.009055</td>\n",
       "      <td>-0.001007</td>\n",
       "      <td>0.039192</td>\n",
       "    </tr>\n",
       "    <tr>\n",
       "      <th>amount_requested</th>\n",
       "      <td>0.001720</td>\n",
       "      <td>0.084132</td>\n",
       "      <td>0.033996</td>\n",
       "      <td>0.289099</td>\n",
       "      <td>-0.044234</td>\n",
       "      <td>0.084841</td>\n",
       "      <td>0.067893</td>\n",
       "      <td>-0.046148</td>\n",
       "      <td>0.051857</td>\n",
       "      <td>-0.008445</td>\n",
       "      <td>1.000000</td>\n",
       "      <td>0.290716</td>\n",
       "      <td>0.005405</td>\n",
       "      <td>0.045465</td>\n",
       "      <td>0.061459</td>\n",
       "      <td>0.071470</td>\n",
       "      <td>0.025167</td>\n",
       "      <td>0.028052</td>\n",
       "      <td>-0.036197</td>\n",
       "      <td>0.069572</td>\n",
       "    </tr>\n",
       "    <tr>\n",
       "      <th>risk_score</th>\n",
       "      <td>0.006780</td>\n",
       "      <td>0.162868</td>\n",
       "      <td>0.113608</td>\n",
       "      <td>0.168375</td>\n",
       "      <td>-0.044765</td>\n",
       "      <td>0.098960</td>\n",
       "      <td>0.090535</td>\n",
       "      <td>-0.044146</td>\n",
       "      <td>0.017071</td>\n",
       "      <td>-0.020332</td>\n",
       "      <td>0.290716</td>\n",
       "      <td>1.000000</td>\n",
       "      <td>0.208188</td>\n",
       "      <td>0.104861</td>\n",
       "      <td>0.120234</td>\n",
       "      <td>0.130464</td>\n",
       "      <td>0.098649</td>\n",
       "      <td>0.108170</td>\n",
       "      <td>-0.261076</td>\n",
       "      <td>0.086098</td>\n",
       "    </tr>\n",
       "    <tr>\n",
       "      <th>risk_score_2</th>\n",
       "      <td>0.013761</td>\n",
       "      <td>-0.019163</td>\n",
       "      <td>0.000647</td>\n",
       "      <td>-0.023627</td>\n",
       "      <td>0.028950</td>\n",
       "      <td>-0.056574</td>\n",
       "      <td>-0.060412</td>\n",
       "      <td>-0.023498</td>\n",
       "      <td>0.027535</td>\n",
       "      <td>-0.034691</td>\n",
       "      <td>0.005405</td>\n",
       "      <td>0.208188</td>\n",
       "      <td>1.000000</td>\n",
       "      <td>0.184249</td>\n",
       "      <td>0.225259</td>\n",
       "      <td>0.227510</td>\n",
       "      <td>0.207386</td>\n",
       "      <td>0.200195</td>\n",
       "      <td>-0.214013</td>\n",
       "      <td>0.010473</td>\n",
       "    </tr>\n",
       "    <tr>\n",
       "      <th>risk_score_3</th>\n",
       "      <td>-0.005550</td>\n",
       "      <td>0.111258</td>\n",
       "      <td>0.049708</td>\n",
       "      <td>0.058665</td>\n",
       "      <td>-0.024297</td>\n",
       "      <td>0.074659</td>\n",
       "      <td>0.058936</td>\n",
       "      <td>0.029162</td>\n",
       "      <td>0.079175</td>\n",
       "      <td>0.001108</td>\n",
       "      <td>0.045465</td>\n",
       "      <td>0.104861</td>\n",
       "      <td>0.184249</td>\n",
       "      <td>1.000000</td>\n",
       "      <td>0.166067</td>\n",
       "      <td>0.480369</td>\n",
       "      <td>0.256866</td>\n",
       "      <td>0.267931</td>\n",
       "      <td>-0.042011</td>\n",
       "      <td>-0.037483</td>\n",
       "    </tr>\n",
       "    <tr>\n",
       "      <th>risk_score_4</th>\n",
       "      <td>0.006963</td>\n",
       "      <td>0.069191</td>\n",
       "      <td>-0.137293</td>\n",
       "      <td>-0.001254</td>\n",
       "      <td>-0.014512</td>\n",
       "      <td>-0.029398</td>\n",
       "      <td>-0.161052</td>\n",
       "      <td>-0.060695</td>\n",
       "      <td>0.012877</td>\n",
       "      <td>0.002074</td>\n",
       "      <td>0.061459</td>\n",
       "      <td>0.120234</td>\n",
       "      <td>0.225259</td>\n",
       "      <td>0.166067</td>\n",
       "      <td>1.000000</td>\n",
       "      <td>0.588190</td>\n",
       "      <td>0.243864</td>\n",
       "      <td>0.237969</td>\n",
       "      <td>-0.033654</td>\n",
       "      <td>0.006147</td>\n",
       "    </tr>\n",
       "    <tr>\n",
       "      <th>risk_score_5</th>\n",
       "      <td>0.004949</td>\n",
       "      <td>0.093710</td>\n",
       "      <td>-0.080470</td>\n",
       "      <td>0.025179</td>\n",
       "      <td>-0.019406</td>\n",
       "      <td>0.000234</td>\n",
       "      <td>-0.094545</td>\n",
       "      <td>-0.033960</td>\n",
       "      <td>0.042121</td>\n",
       "      <td>0.002341</td>\n",
       "      <td>0.071470</td>\n",
       "      <td>0.130464</td>\n",
       "      <td>0.227510</td>\n",
       "      <td>0.480369</td>\n",
       "      <td>0.588190</td>\n",
       "      <td>1.000000</td>\n",
       "      <td>0.284291</td>\n",
       "      <td>0.279478</td>\n",
       "      <td>-0.015720</td>\n",
       "      <td>-0.007541</td>\n",
       "    </tr>\n",
       "    <tr>\n",
       "      <th>ext_quality_score</th>\n",
       "      <td>0.006025</td>\n",
       "      <td>0.032265</td>\n",
       "      <td>0.010080</td>\n",
       "      <td>-0.008429</td>\n",
       "      <td>-0.009041</td>\n",
       "      <td>0.014162</td>\n",
       "      <td>0.003362</td>\n",
       "      <td>-0.016151</td>\n",
       "      <td>0.039808</td>\n",
       "      <td>-0.021523</td>\n",
       "      <td>0.025167</td>\n",
       "      <td>0.098649</td>\n",
       "      <td>0.207386</td>\n",
       "      <td>0.256866</td>\n",
       "      <td>0.243864</td>\n",
       "      <td>0.284291</td>\n",
       "      <td>1.000000</td>\n",
       "      <td>0.359777</td>\n",
       "      <td>-0.075221</td>\n",
       "      <td>-0.032129</td>\n",
       "    </tr>\n",
       "    <tr>\n",
       "      <th>ext_quality_score_2</th>\n",
       "      <td>0.006392</td>\n",
       "      <td>0.040019</td>\n",
       "      <td>0.005507</td>\n",
       "      <td>-0.003323</td>\n",
       "      <td>-0.004461</td>\n",
       "      <td>0.030353</td>\n",
       "      <td>0.009093</td>\n",
       "      <td>-0.009181</td>\n",
       "      <td>0.029372</td>\n",
       "      <td>-0.009055</td>\n",
       "      <td>0.028052</td>\n",
       "      <td>0.108170</td>\n",
       "      <td>0.200195</td>\n",
       "      <td>0.267931</td>\n",
       "      <td>0.237969</td>\n",
       "      <td>0.279478</td>\n",
       "      <td>0.359777</td>\n",
       "      <td>1.000000</td>\n",
       "      <td>-0.081526</td>\n",
       "      <td>-0.024271</td>\n",
       "    </tr>\n",
       "    <tr>\n",
       "      <th>inquiries_last_month</th>\n",
       "      <td>-0.003492</td>\n",
       "      <td>0.041224</td>\n",
       "      <td>0.011215</td>\n",
       "      <td>0.051622</td>\n",
       "      <td>-0.026710</td>\n",
       "      <td>0.011976</td>\n",
       "      <td>0.013659</td>\n",
       "      <td>-0.028225</td>\n",
       "      <td>0.003923</td>\n",
       "      <td>-0.001007</td>\n",
       "      <td>-0.036197</td>\n",
       "      <td>-0.261076</td>\n",
       "      <td>-0.214013</td>\n",
       "      <td>-0.042011</td>\n",
       "      <td>-0.033654</td>\n",
       "      <td>-0.015720</td>\n",
       "      <td>-0.075221</td>\n",
       "      <td>-0.081526</td>\n",
       "      <td>1.000000</td>\n",
       "      <td>-0.025165</td>\n",
       "    </tr>\n",
       "    <tr>\n",
       "      <th>e_signed</th>\n",
       "      <td>0.002735</td>\n",
       "      <td>-0.096998</td>\n",
       "      <td>-0.047409</td>\n",
       "      <td>0.031377</td>\n",
       "      <td>0.010128</td>\n",
       "      <td>0.003748</td>\n",
       "      <td>-0.018969</td>\n",
       "      <td>-0.081195</td>\n",
       "      <td>-0.024160</td>\n",
       "      <td>0.039192</td>\n",
       "      <td>0.069572</td>\n",
       "      <td>0.086098</td>\n",
       "      <td>0.010473</td>\n",
       "      <td>-0.037483</td>\n",
       "      <td>0.006147</td>\n",
       "      <td>-0.007541</td>\n",
       "      <td>-0.032129</td>\n",
       "      <td>-0.024271</td>\n",
       "      <td>-0.025165</td>\n",
       "      <td>1.000000</td>\n",
       "    </tr>\n",
       "  </tbody>\n",
       "</table>\n",
       "</div>"
      ],
      "text/plain": [
       "                      entry_id       age  home_owner    income  \\\n",
       "entry_id              1.000000  0.004333    0.002528 -0.009034   \n",
       "age                   0.004333  1.000000    0.142046  0.174062   \n",
       "home_owner            0.002528  0.142046    1.000000  0.147487   \n",
       "income               -0.009034  0.174062    0.147487  1.000000   \n",
       "months_employed       0.015546 -0.103635    0.018008 -0.049157   \n",
       "years_employed       -0.000950  0.182590    0.027367  0.102139   \n",
       "current_address_year -0.001701  0.146554    0.179291  0.046982   \n",
       "personal_account_m   -0.000515 -0.013609    0.013782  0.009052   \n",
       "personal_account_y   -0.007721  0.041332   -0.047105 -0.002002   \n",
       "has_debt              0.007476 -0.043808   -0.076206 -0.011199   \n",
       "amount_requested      0.001720  0.084132    0.033996  0.289099   \n",
       "risk_score            0.006780  0.162868    0.113608  0.168375   \n",
       "risk_score_2          0.013761 -0.019163    0.000647 -0.023627   \n",
       "risk_score_3         -0.005550  0.111258    0.049708  0.058665   \n",
       "risk_score_4          0.006963  0.069191   -0.137293 -0.001254   \n",
       "risk_score_5          0.004949  0.093710   -0.080470  0.025179   \n",
       "ext_quality_score     0.006025  0.032265    0.010080 -0.008429   \n",
       "ext_quality_score_2   0.006392  0.040019    0.005507 -0.003323   \n",
       "inquiries_last_month -0.003492  0.041224    0.011215  0.051622   \n",
       "e_signed              0.002735 -0.096998   -0.047409  0.031377   \n",
       "\n",
       "                      months_employed  years_employed  current_address_year  \\\n",
       "entry_id                     0.015546       -0.000950             -0.001701   \n",
       "age                         -0.103635        0.182590              0.146554   \n",
       "home_owner                   0.018008        0.027367              0.179291   \n",
       "income                      -0.049157        0.102139              0.046982   \n",
       "months_employed              1.000000       -0.189805             -0.056609   \n",
       "years_employed              -0.189805        1.000000              0.343905   \n",
       "current_address_year        -0.056609        0.343905              1.000000   \n",
       "personal_account_m           0.211605       -0.052543              0.082491   \n",
       "personal_account_y          -0.019645        0.184879              0.110258   \n",
       "has_debt                    -0.000546        0.005293              0.017423   \n",
       "amount_requested            -0.044234        0.084841              0.067893   \n",
       "risk_score                  -0.044765        0.098960              0.090535   \n",
       "risk_score_2                 0.028950       -0.056574             -0.060412   \n",
       "risk_score_3                -0.024297        0.074659              0.058936   \n",
       "risk_score_4                -0.014512       -0.029398             -0.161052   \n",
       "risk_score_5                -0.019406        0.000234             -0.094545   \n",
       "ext_quality_score           -0.009041        0.014162              0.003362   \n",
       "ext_quality_score_2         -0.004461        0.030353              0.009093   \n",
       "inquiries_last_month        -0.026710        0.011976              0.013659   \n",
       "e_signed                     0.010128        0.003748             -0.018969   \n",
       "\n",
       "                      personal_account_m  personal_account_y  has_debt  \\\n",
       "entry_id                       -0.000515           -0.007721  0.007476   \n",
       "age                            -0.013609            0.041332 -0.043808   \n",
       "home_owner                      0.013782           -0.047105 -0.076206   \n",
       "income                          0.009052           -0.002002 -0.011199   \n",
       "months_employed                 0.211605           -0.019645 -0.000546   \n",
       "years_employed                 -0.052543            0.184879  0.005293   \n",
       "current_address_year            0.082491            0.110258  0.017423   \n",
       "personal_account_m              1.000000           -0.140649  0.246832   \n",
       "personal_account_y             -0.140649            1.000000 -0.030701   \n",
       "has_debt                        0.246832           -0.030701  1.000000   \n",
       "amount_requested               -0.046148            0.051857 -0.008445   \n",
       "risk_score                     -0.044146            0.017071 -0.020332   \n",
       "risk_score_2                   -0.023498            0.027535 -0.034691   \n",
       "risk_score_3                    0.029162            0.079175  0.001108   \n",
       "risk_score_4                   -0.060695            0.012877  0.002074   \n",
       "risk_score_5                   -0.033960            0.042121  0.002341   \n",
       "ext_quality_score              -0.016151            0.039808 -0.021523   \n",
       "ext_quality_score_2            -0.009181            0.029372 -0.009055   \n",
       "inquiries_last_month           -0.028225            0.003923 -0.001007   \n",
       "e_signed                       -0.081195           -0.024160  0.039192   \n",
       "\n",
       "                      amount_requested  risk_score  risk_score_2  \\\n",
       "entry_id                      0.001720    0.006780      0.013761   \n",
       "age                           0.084132    0.162868     -0.019163   \n",
       "home_owner                    0.033996    0.113608      0.000647   \n",
       "income                        0.289099    0.168375     -0.023627   \n",
       "months_employed              -0.044234   -0.044765      0.028950   \n",
       "years_employed                0.084841    0.098960     -0.056574   \n",
       "current_address_year          0.067893    0.090535     -0.060412   \n",
       "personal_account_m           -0.046148   -0.044146     -0.023498   \n",
       "personal_account_y            0.051857    0.017071      0.027535   \n",
       "has_debt                     -0.008445   -0.020332     -0.034691   \n",
       "amount_requested              1.000000    0.290716      0.005405   \n",
       "risk_score                    0.290716    1.000000      0.208188   \n",
       "risk_score_2                  0.005405    0.208188      1.000000   \n",
       "risk_score_3                  0.045465    0.104861      0.184249   \n",
       "risk_score_4                  0.061459    0.120234      0.225259   \n",
       "risk_score_5                  0.071470    0.130464      0.227510   \n",
       "ext_quality_score             0.025167    0.098649      0.207386   \n",
       "ext_quality_score_2           0.028052    0.108170      0.200195   \n",
       "inquiries_last_month         -0.036197   -0.261076     -0.214013   \n",
       "e_signed                      0.069572    0.086098      0.010473   \n",
       "\n",
       "                      risk_score_3  risk_score_4  risk_score_5  \\\n",
       "entry_id                 -0.005550      0.006963      0.004949   \n",
       "age                       0.111258      0.069191      0.093710   \n",
       "home_owner                0.049708     -0.137293     -0.080470   \n",
       "income                    0.058665     -0.001254      0.025179   \n",
       "months_employed          -0.024297     -0.014512     -0.019406   \n",
       "years_employed            0.074659     -0.029398      0.000234   \n",
       "current_address_year      0.058936     -0.161052     -0.094545   \n",
       "personal_account_m        0.029162     -0.060695     -0.033960   \n",
       "personal_account_y        0.079175      0.012877      0.042121   \n",
       "has_debt                  0.001108      0.002074      0.002341   \n",
       "amount_requested          0.045465      0.061459      0.071470   \n",
       "risk_score                0.104861      0.120234      0.130464   \n",
       "risk_score_2              0.184249      0.225259      0.227510   \n",
       "risk_score_3              1.000000      0.166067      0.480369   \n",
       "risk_score_4              0.166067      1.000000      0.588190   \n",
       "risk_score_5              0.480369      0.588190      1.000000   \n",
       "ext_quality_score         0.256866      0.243864      0.284291   \n",
       "ext_quality_score_2       0.267931      0.237969      0.279478   \n",
       "inquiries_last_month     -0.042011     -0.033654     -0.015720   \n",
       "e_signed                 -0.037483      0.006147     -0.007541   \n",
       "\n",
       "                      ext_quality_score  ext_quality_score_2  \\\n",
       "entry_id                       0.006025             0.006392   \n",
       "age                            0.032265             0.040019   \n",
       "home_owner                     0.010080             0.005507   \n",
       "income                        -0.008429            -0.003323   \n",
       "months_employed               -0.009041            -0.004461   \n",
       "years_employed                 0.014162             0.030353   \n",
       "current_address_year           0.003362             0.009093   \n",
       "personal_account_m            -0.016151            -0.009181   \n",
       "personal_account_y             0.039808             0.029372   \n",
       "has_debt                      -0.021523            -0.009055   \n",
       "amount_requested               0.025167             0.028052   \n",
       "risk_score                     0.098649             0.108170   \n",
       "risk_score_2                   0.207386             0.200195   \n",
       "risk_score_3                   0.256866             0.267931   \n",
       "risk_score_4                   0.243864             0.237969   \n",
       "risk_score_5                   0.284291             0.279478   \n",
       "ext_quality_score              1.000000             0.359777   \n",
       "ext_quality_score_2            0.359777             1.000000   \n",
       "inquiries_last_month          -0.075221            -0.081526   \n",
       "e_signed                      -0.032129            -0.024271   \n",
       "\n",
       "                      inquiries_last_month  e_signed  \n",
       "entry_id                         -0.003492  0.002735  \n",
       "age                               0.041224 -0.096998  \n",
       "home_owner                        0.011215 -0.047409  \n",
       "income                            0.051622  0.031377  \n",
       "months_employed                  -0.026710  0.010128  \n",
       "years_employed                    0.011976  0.003748  \n",
       "current_address_year              0.013659 -0.018969  \n",
       "personal_account_m               -0.028225 -0.081195  \n",
       "personal_account_y                0.003923 -0.024160  \n",
       "has_debt                         -0.001007  0.039192  \n",
       "amount_requested                 -0.036197  0.069572  \n",
       "risk_score                       -0.261076  0.086098  \n",
       "risk_score_2                     -0.214013  0.010473  \n",
       "risk_score_3                     -0.042011 -0.037483  \n",
       "risk_score_4                     -0.033654  0.006147  \n",
       "risk_score_5                     -0.015720 -0.007541  \n",
       "ext_quality_score                -0.075221 -0.032129  \n",
       "ext_quality_score_2              -0.081526 -0.024271  \n",
       "inquiries_last_month              1.000000 -0.025165  \n",
       "e_signed                         -0.025165  1.000000  "
      ]
     },
     "execution_count": 15,
     "metadata": {},
     "output_type": "execute_result"
    }
   ],
   "source": [
    "corrmat\n",
    "#from this you can observe that every feature is independent and doesnt have high corelation with other features"
   ]
  },
  {
   "cell_type": "code",
   "execution_count": 16,
   "metadata": {},
   "outputs": [
    {
     "data": {
      "image/png": "[encoded data removed]",
      "text/plain": [
       "<Figure size 432x288 with 1 Axes>"
      ]
     },
     "metadata": {},
     "output_type": "display_data"
    }
   ],
   "source": [
    "#pie chart of people signed\n",
    "#to see the ratio of ppl signed vs not_signed\n",
    "labels = 'E_signed', 'not_signed'\n",
    "sizes = [df.e_signed[df['e_signed']==1].count(), df.e_signed[df['e_signed']==0].count()]\n",
    "explode = (0, 0.1)\n",
    "fig1, ax1 = plt.subplots(figsize=(6, 4))\n",
    "ax1.pie(sizes, explode=explode, labels=labels, autopct='%1.1f%%',\n",
    "        shadow=True, startangle=90)\n",
    "ax1.axis('equal')\n",
    "plt.title(\"Proportion of customer signed and not signed\", size = 20)\n",
    "plt.show()"
   ]
  },
  {
   "cell_type": "code",
   "execution_count": 17,
   "metadata": {},
   "outputs": [
    {
     "name": "stdout",
     "output_type": "stream",
     "text": [
      "3664 14244\n"
     ]
    }
   ],
   "source": [
    "#predicting no.of customers having debts...so that it may help in predicting a new loan\n",
    "print(df.has_debt[df['has_debt']==0].count(),df.has_debt[df['has_debt']==1].count())"
   ]
  },
  {
   "cell_type": "code",
   "execution_count": 18,
   "metadata": {},
   "outputs": [
    {
     "data": {
      "text/plain": [
       "array([0, 3, 2, 1])"
      ]
     },
     "execution_count": 18,
     "metadata": {},
     "output_type": "execute_result"
    }
   ],
   "source": [
    "from sklearn import preprocessing\n",
    "\n",
    "label_encoder = preprocessing.LabelEncoder() \n",
    "df['pay_schedule']= label_encoder.fit_transform(df['pay_schedule']) \n",
    "df['pay_schedule'].unique()"
   ]
  },
  {
   "cell_type": "code",
   "execution_count": 19,
   "metadata": {},
   "outputs": [
    {
     "data": {
      "text/plain": [
       "{0: 10716, 3: 3696, 2: 2004, 1: 1492}"
      ]
     },
     "execution_count": 19,
     "metadata": {},
     "output_type": "execute_result"
    }
   ],
   "source": [
    "df['pay_schedule'].value_counts().to_dict()"
   ]
  },
  {
   "cell_type": "markdown",
   "metadata": {},
   "source": [
    "# ALGORITHM'S\n"
   ]
  },
  {
   "cell_type": "markdown",
   "metadata": {},
   "source": [
    "# Spliting up of data"
   ]
  },
  {
   "cell_type": "code",
   "execution_count": 20,
   "metadata": {},
   "outputs": [],
   "source": [
    "#splitting the data into train and test\n",
    "from sklearn.model_selection import train_test_split\n",
    "ip=df[['pay_schedule','age','income','home_owner','has_debt','amount_requested','risk_score','risk_score_2','inquiries_last_month']]\n",
    "op=df[['e_signed']]\n",
    "X_train,X_test,y_train,y_test=train_test_split(ip,op,random_state=0)"
   ]
  },
  {
   "cell_type": "code",
   "execution_count": 21,
   "metadata": {},
   "outputs": [
    {
     "data": {
      "text/plain": [
       "((13431, 9), (4477, 9), (13431, 1), (4477, 1))"
      ]
     },
     "execution_count": 21,
     "metadata": {},
     "output_type": "execute_result"
    }
   ],
   "source": [
    "X_train.shape ,X_test.shape ,y_train.shape ,y_test.shape"
   ]
  },
  {
   "cell_type": "markdown",
   "metadata": {},
   "source": [
    "# Logistic Regression\n"
   ]
  },
  {
   "cell_type": "code",
   "execution_count": 22,
   "metadata": {},
   "outputs": [
    {
     "name": "stdout",
     "output_type": "stream",
     "text": [
      "Classification Report:\n",
      "              precision    recall  f1-score   support\n",
      "\n",
      "           0       0.54      0.34      0.42      2080\n",
      "           1       0.57      0.75      0.64      2397\n",
      "\n",
      "    accuracy                           0.56      4477\n",
      "   macro avg       0.55      0.54      0.53      4477\n",
      "weighted avg       0.55      0.56      0.54      4477\n",
      "\n",
      "\n",
      "\n",
      "Confusion Matrix:\n",
      "[[ 714 1366]\n",
      " [ 611 1786]]\n"
     ]
    }
   ],
   "source": [
    "#as logistic regression is the commonly used classification algorithm where the outcome variable is binary format.\n",
    "from sklearn.linear_model import LogisticRegression\n",
    "lg=LogisticRegression()\n",
    "lg.fit(X_train,y_train)\n",
    "pred=lg.predict(X_test)\n",
    "from sklearn.metrics import classification_report, confusion_matrix\n",
    "print('Classification Report:')\n",
    "print(classification_report(y_test, pred))\n",
    "print('\\n')\n",
    "print('Confusion Matrix:')\n",
    "print(confusion_matrix(y_test, pred))"
   ]
  },
  {
   "cell_type": "markdown",
   "metadata": {},
   "source": [
    "# KNN Algorithm"
   ]
  },
  {
   "cell_type": "code",
   "execution_count": 23,
   "metadata": {},
   "outputs": [
    {
     "name": "stdout",
     "output_type": "stream",
     "text": [
      "Accuracy of K-NN classifier on training set: 0.72\n",
      "Accuracy of K-NN classifier on test set: 0.55\n"
     ]
    },
    {
     "data": {
      "text/plain": [
       "([<matplotlib.axis.XTick at 0x24adfa603c8>,\n",
       "  <matplotlib.axis.XTick at 0x24ae0a50988>,\n",
       "  <matplotlib.axis.XTick at 0x24ae0a509c8>,\n",
       "  <matplotlib.axis.XTick at 0x24ae0a89488>,\n",
       "  <matplotlib.axis.XTick at 0x24ae0a89ac8>,\n",
       "  <matplotlib.axis.XTick at 0x24ae0a8d308>,\n",
       "  <matplotlib.axis.XTick at 0x24ae0a8db48>,\n",
       "  <matplotlib.axis.XTick at 0x24ae0a91388>,\n",
       "  <matplotlib.axis.XTick at 0x24ae0a91c08>,\n",
       "  <matplotlib.axis.XTick at 0x24ae0a976c8>],\n",
       " <a list of 10 Text xticklabel objects>)"
      ]
     },
     "execution_count": 23,
     "metadata": {},
     "output_type": "execute_result"
    },
    {
     "data": {
      "image/png": "[encoded data removed]",
      "text/plain": [
       "<Figure size 432x288 with 1 Axes>"
      ]
     },
     "metadata": {
      "needs_background": "light"
     },
     "output_type": "display_data"
    }
   ],
   "source": [
    "#The k-nearest neighbors (KNN) algorithm is a simple, easy-to-implement supervised machine learning algorithm\n",
    "#it follows principle where similar things are near to each other.\n",
    "from sklearn.neighbors import KNeighborsClassifier\n",
    "from sklearn.metrics import classification_report\n",
    "knn = KNeighborsClassifier()\n",
    "knn.fit(X_train, y_train)\n",
    "print('Accuracy of K-NN classifier on training set: {:.2f}'\n",
    "     .format(knn.score(X_train, y_train)))\n",
    "print('Accuracy of K-NN classifier on test set: {:.2f}'\n",
    "     .format(knn.score(X_test, y_test)))\n",
    "k_range = range(10, 60)\n",
    "scores = []\n",
    "for k in k_range:\n",
    "    knn = KNeighborsClassifier(n_neighbors = k)\n",
    "    knn.fit(X_train, y_train)\n",
    "    scores.append(knn.score(X_test, y_test))\n",
    "plt.figure()\n",
    "plt.xlabel('k')\n",
    "plt.ylabel('accuracy')\n",
    "plt.scatter(k_range, scores)\n",
    "plt.xticks([10,20,30,40,43,46,48,50,55,60])"
   ]
  },
  {
   "cell_type": "code",
   "execution_count": 24,
   "metadata": {},
   "outputs": [
    {
     "name": "stdout",
     "output_type": "stream",
     "text": [
      "[[ 714 1366]\n",
      " [ 611 1786]]\n",
      "              precision    recall  f1-score   support\n",
      "\n",
      "           0       0.56      0.41      0.47      2080\n",
      "           1       0.58      0.72      0.65      2397\n",
      "\n",
      "    accuracy                           0.57      4477\n",
      "   macro avg       0.57      0.56      0.56      4477\n",
      "weighted avg       0.57      0.57      0.56      4477\n",
      "\n"
     ]
    }
   ],
   "source": [
    "#knn classification report\n",
    "from sklearn.metrics import classification_report\n",
    "from sklearn.metrics import confusion_matrix\n",
    "k_pred = knn.predict(X_test)\n",
    "print(confusion_matrix(y_test, pred))\n",
    "print(classification_report(y_test,k_pred))"
   ]
  },
  {
   "cell_type": "markdown",
   "metadata": {},
   "source": [
    "# SVM"
   ]
  },
  {
   "cell_type": "code",
   "execution_count": 25,
   "metadata": {},
   "outputs": [
    {
     "name": "stdout",
     "output_type": "stream",
     "text": [
      "Accuracy of SVM classifier on training set: 0.56\n",
      "Accuracy of SVM classifier on test set: 0.55\n"
     ]
    }
   ],
   "source": [
    "#Support Vectors are simply the co-ordinates of individual observation\n",
    "\n",
    "from sklearn.svm import SVC\n",
    "svm = SVC()\n",
    "svm.fit(X_train, y_train)\n",
    "s_pred = svm.predict(X_test)\n",
    "print('Accuracy of SVM classifier on training set: {:.2f}'\n",
    "     .format(svm.score(X_train, y_train)))\n",
    "print('Accuracy of SVM classifier on test set: {:.2f}'\n",
    "     .format(svm.score(X_test, y_test)))"
   ]
  },
  {
   "cell_type": "markdown",
   "metadata": {
    "scrolled": true
   },
   "source": [
    "# Accuracy scores of all algorithms"
   ]
  },
  {
   "cell_type": "code",
   "execution_count": 26,
   "metadata": {},
   "outputs": [
    {
     "name": "stdout",
     "output_type": "stream",
     "text": [
      "Accuracy scores of each model\n",
      "LogisticRegression :  0.5584096493187403\n",
      "Knn                :  0.5747152110788475\n",
      "SVM                :  0.5461246370337279\n",
      "\n",
      "Highest accuracy is for KNN Classifier \n"
     ]
    }
   ],
   "source": [
    "print(\"Accuracy scores of each model\")\n",
    "print(\"LogisticRegression : \",accuracy_score(y_test, pred))\n",
    "print(\"Knn                : \",knn.score(X_test, y_test))\n",
    "print('SVM                : ',svm.score(X_test, y_test))\n",
    "print()\n",
    "print(\"Highest accuracy is for KNN Classifier \")"
   ]
  },
  {
   "cell_type": "code",
   "execution_count": 27,
   "metadata": {},
   "outputs": [
    {
     "name": "stdout",
     "output_type": "stream",
     "text": [
      "Highest accuracy is for KNN Classifier \n"
     ]
    }
   ],
   "source": [
    "print(\"Highest accuracy is for KNN Classifier \")"
   ]
  },
  {
   "cell_type": "markdown",
   "metadata": {},
   "source": [
    "# Q2 Predicting if person has a home or not (predicting home_owner)"
   ]
  },
  {
   "cell_type": "code",
   "execution_count": 28,
   "metadata": {},
   "outputs": [
    {
     "data": {
      "image/png": "[encoded data removed]",
      "text/plain": [
       "<Figure size 432x288 with 1 Axes>"
      ]
     },
     "metadata": {},
     "output_type": "display_data"
    }
   ],
   "source": [
    "#pie chart of house owners\n",
    "#to see the ratio of ppl signed vs not_signed\n",
    "labels = 'home_owner ', 'not_homeowner'\n",
    "sizes = [df.home_owner[df['home_owner']==1].count(), df.home_owner[df['home_owner']==0].count()]\n",
    "explode = (0, 0.1)\n",
    "fig1, ax1 = plt.subplots(figsize=(6, 4))\n",
    "ax1.pie(sizes, explode=explode, labels=labels, autopct='%1.1f%%',\n",
    "        shadow=True, startangle=90)\n",
    "ax1.axis('equal')\n",
    "plt.title(\"Proportion of customer has a home or not\", size = 20)\n",
    "plt.show()"
   ]
  },
  {
   "cell_type": "code",
   "execution_count": 29,
   "metadata": {},
   "outputs": [
    {
     "name": "stdout",
     "output_type": "stream",
     "text": [
      "10294 7614\n"
     ]
    }
   ],
   "source": [
    "#predicting no.of customers having houses...so that it may help in predicting requested loan amount\n",
    "print(df.home_owner[df['home_owner']==0].count(),df.home_owner[df['home_owner']==1].count())"
   ]
  },
  {
   "cell_type": "code",
   "execution_count": 30,
   "metadata": {},
   "outputs": [
    {
     "data": {
      "text/plain": [
       "(Index(['entry_id', 'age', 'pay_schedule', 'home_owner', 'income',\n",
       "        'months_employed', 'years_employed', 'current_address_year',\n",
       "        'personal_account_m', 'personal_account_y', 'has_debt',\n",
       "        'amount_requested', 'risk_score', 'risk_score_2', 'risk_score_3',\n",
       "        'risk_score_4', 'risk_score_5', 'ext_quality_score',\n",
       "        'ext_quality_score_2', 'inquiries_last_month', 'e_signed'],\n",
       "       dtype='object'),\n",
       " entry_id                  int64\n",
       " age                       int64\n",
       " pay_schedule              int32\n",
       " home_owner                int64\n",
       " income                    int64\n",
       " months_employed           int64\n",
       " years_employed            int64\n",
       " current_address_year      int64\n",
       " personal_account_m        int64\n",
       " personal_account_y        int64\n",
       " has_debt                  int64\n",
       " amount_requested          int64\n",
       " risk_score                int64\n",
       " risk_score_2            float64\n",
       " risk_score_3            float64\n",
       " risk_score_4            float64\n",
       " risk_score_5            float64\n",
       " ext_quality_score       float64\n",
       " ext_quality_score_2     float64\n",
       " inquiries_last_month      int64\n",
       " e_signed                  int64\n",
       " dtype: object)"
      ]
     },
     "execution_count": 30,
     "metadata": {},
     "output_type": "execute_result"
    }
   ],
   "source": [
    "#cols and datatypes of given dataset\n",
    "df.columns,df.dtypes"
   ]
  },
  {
   "cell_type": "code",
   "execution_count": 31,
   "metadata": {},
   "outputs": [],
   "source": [
    "#taking the old variable into variable y\n",
    "data=df.drop(labels=\"home_owner\",axis=1)\n",
    "y=df['home_owner']"
   ]
  },
  {
   "cell_type": "code",
   "execution_count": 32,
   "metadata": {},
   "outputs": [
    {
     "data": {
      "text/plain": [
       "array([0, 3, 2, 1], dtype=int64)"
      ]
     },
     "execution_count": 32,
     "metadata": {},
     "output_type": "execute_result"
    }
   ],
   "source": [
    "from sklearn import preprocessing\n",
    "\n",
    "label_encoder = preprocessing.LabelEncoder() \n",
    "df['pay_schedule']= label_encoder.fit_transform(df['pay_schedule']) \n",
    "df['pay_schedule'].unique()"
   ]
  },
  {
   "cell_type": "code",
   "execution_count": 33,
   "metadata": {},
   "outputs": [
    {
     "data": {
      "text/plain": [
       "{0: 10716, 3: 3696, 2: 2004, 1: 1492}"
      ]
     },
     "execution_count": 33,
     "metadata": {},
     "output_type": "execute_result"
    }
   ],
   "source": [
    "df['pay_schedule'].value_counts().to_dict()"
   ]
  },
  {
   "cell_type": "markdown",
   "metadata": {},
   "source": [
    "# ALGORITHM'S"
   ]
  },
  {
   "cell_type": "markdown",
   "metadata": {},
   "source": [
    "# Spliting up of data"
   ]
  },
  {
   "cell_type": "code",
   "execution_count": 34,
   "metadata": {},
   "outputs": [],
   "source": [
    "#splitting the data into train and test\n",
    "from sklearn.model_selection import train_test_split\n",
    "ip=df[['pay_schedule','age','income','has_debt','amount_requested','risk_score','risk_score_2','inquiries_last_month']]\n",
    "op=df[['home_owner']]\n",
    "X_train,X_test,y_train,y_test=train_test_split(ip,op,random_state=0)"
   ]
  },
  {
   "cell_type": "code",
   "execution_count": 35,
   "metadata": {},
   "outputs": [
    {
     "data": {
      "text/plain": [
       "((13431, 8), (4477, 8), (13431, 1), (4477, 1))"
      ]
     },
     "execution_count": 35,
     "metadata": {},
     "output_type": "execute_result"
    }
   ],
   "source": [
    "X_train.shape ,X_test.shape ,y_train.shape ,y_test.shape"
   ]
  },
  {
   "cell_type": "markdown",
   "metadata": {},
   "source": [
    "# Logistic Regression"
   ]
  },
  {
   "cell_type": "code",
   "execution_count": 36,
   "metadata": {},
   "outputs": [
    {
     "name": "stdout",
     "output_type": "stream",
     "text": [
      "Classification Report:\n",
      "              precision    recall  f1-score   support\n",
      "\n",
      "           0       0.58      0.93      0.71      2540\n",
      "           1       0.53      0.10      0.16      1937\n",
      "\n",
      "    accuracy                           0.57      4477\n",
      "   macro avg       0.55      0.51      0.44      4477\n",
      "weighted avg       0.55      0.57      0.47      4477\n",
      "\n",
      "\n",
      "\n",
      "Confusion Matrix:\n",
      "[[2373  167]\n",
      " [1752  185]]\n"
     ]
    }
   ],
   "source": [
    "#as logistic regression is the commonly used classification algorithm where the outcome variable is binary format.\n",
    "from sklearn.linear_model import LogisticRegression\n",
    "lg=LogisticRegression()\n",
    "lg.fit(X_train,y_train)\n",
    "pred=lg.predict(X_test)\n",
    "from sklearn.metrics import classification_report, confusion_matrix\n",
    "print('Classification Report:')\n",
    "print(classification_report(y_test, pred))\n",
    "print('\\n')\n",
    "print('Confusion Matrix:')\n",
    "print(confusion_matrix(y_test, pred))"
   ]
  },
  {
   "cell_type": "markdown",
   "metadata": {},
   "source": [
    "# KNN Algorithm"
   ]
  },
  {
   "cell_type": "code",
   "execution_count": 37,
   "metadata": {},
   "outputs": [
    {
     "name": "stdout",
     "output_type": "stream",
     "text": [
      "Accuracy of K-NN classifier on training set: 0.71\n",
      "Accuracy of K-NN classifier on test set: 0.56\n"
     ]
    },
    {
     "data": {
      "text/plain": [
       "([<matplotlib.axis.XTick at 0x24aec8ed5c8>,\n",
       "  <matplotlib.axis.XTick at 0x24aec8d8a08>,\n",
       "  <matplotlib.axis.XTick at 0x24aec8d8d88>,\n",
       "  <matplotlib.axis.XTick at 0x24adea13788>,\n",
       "  <matplotlib.axis.XTick at 0x24adea12088>,\n",
       "  <matplotlib.axis.XTick at 0x24adea12788>,\n",
       "  <matplotlib.axis.XTick at 0x24adea1a1c8>,\n",
       "  <matplotlib.axis.XTick at 0x24adea1aa88>,\n",
       "  <matplotlib.axis.XTick at 0x24adea1f588>,\n",
       "  <matplotlib.axis.XTick at 0x24adea221c8>],\n",
       " <a list of 10 Text xticklabel objects>)"
      ]
     },
     "execution_count": 37,
     "metadata": {},
     "output_type": "execute_result"
    },
    {
     "data": {
      "image/png": "[encoded data removed]",
      "text/plain": [
       "<Figure size 432x288 with 1 Axes>"
      ]
     },
     "metadata": {
      "needs_background": "light"
     },
     "output_type": "display_data"
    }
   ],
   "source": [
    "#The k-nearest neighbors (KNN) algorithm is a simple, easy-to-implement supervised machine learning algorithm\n",
    "#it follows principle where similar things are near to each other.\n",
    "from sklearn.neighbors import KNeighborsClassifier\n",
    "from sklearn.metrics import classification_report\n",
    "knn = KNeighborsClassifier()\n",
    "knn.fit(X_train, y_train)\n",
    "print('Accuracy of K-NN classifier on training set: {:.2f}'\n",
    "     .format(knn.score(X_train, y_train)))\n",
    "print('Accuracy of K-NN classifier on test set: {:.2f}'\n",
    "     .format(knn.score(X_test, y_test)))\n",
    "k_range = range(10, 60)\n",
    "scores = []\n",
    "for k in k_range:\n",
    "    knn = KNeighborsClassifier(n_neighbors = k)\n",
    "    knn.fit(X_train, y_train)\n",
    "    scores.append(knn.score(X_test, y_test))\n",
    "plt.figure()\n",
    "plt.xlabel('k')\n",
    "plt.ylabel('accuracy')\n",
    "plt.scatter(k_range, scores)\n",
    "plt.xticks([10,20,30,40,43,46,48,50,55,60])"
   ]
  },
  {
   "cell_type": "code",
   "execution_count": 38,
   "metadata": {},
   "outputs": [
    {
     "name": "stdout",
     "output_type": "stream",
     "text": [
      "[[2373  167]\n",
      " [1752  185]]\n",
      "              precision    recall  f1-score   support\n",
      "\n",
      "           0       0.60      0.83      0.69      2540\n",
      "           1       0.54      0.27      0.36      1937\n",
      "\n",
      "    accuracy                           0.58      4477\n",
      "   macro avg       0.57      0.55      0.52      4477\n",
      "weighted avg       0.57      0.58      0.55      4477\n",
      "\n"
     ]
    }
   ],
   "source": [
    "#knn classification report\n",
    "from sklearn.metrics import classification_report\n",
    "from sklearn.metrics import confusion_matrix\n",
    "k_pred = knn.predict(X_test)\n",
    "print(confusion_matrix(y_test, pred))\n",
    "print(classification_report(y_test,k_pred))"
   ]
  },
  {
   "cell_type": "markdown",
   "metadata": {},
   "source": [
    "# SVM"
   ]
  },
  {
   "cell_type": "code",
   "execution_count": 39,
   "metadata": {},
   "outputs": [
    {
     "name": "stdout",
     "output_type": "stream",
     "text": [
      "Accuracy of SVM classifier on training set: 0.60\n",
      "Accuracy of SVM classifier on test set: 0.59\n"
     ]
    }
   ],
   "source": [
    "#Support Vectors are simply the co-ordinates of individual observation\n",
    "\n",
    "from sklearn.svm import SVC\n",
    "svm = SVC()\n",
    "svm.fit(X_train, y_train)\n",
    "s_pred = svm.predict(X_test)\n",
    "print('Accuracy of SVM classifier on training set: {:.2f}'\n",
    "     .format(svm.score(X_train, y_train)))\n",
    "print('Accuracy of SVM classifier on test set: {:.2f}'\n",
    "     .format(svm.score(X_test, y_test)))"
   ]
  },
  {
   "cell_type": "markdown",
   "metadata": {},
   "source": [
    "# Accuracy scores of all algorithms"
   ]
  },
  {
   "cell_type": "code",
   "execution_count": 40,
   "metadata": {},
   "outputs": [
    {
     "name": "stdout",
     "output_type": "stream",
     "text": [
      "Accuracy scores of each model\n",
      "LogisticRegression :  0.571364753182935\n",
      "Knn                :  0.5845432209068573\n",
      "SVM                :  0.5872235872235873\n",
      "\n",
      "Highest accuracy is for SVM Classifier \n"
     ]
    }
   ],
   "source": [
    "print(\"Accuracy scores of each model\")\n",
    "print(\"LogisticRegression : \",accuracy_score(y_test, pred))\n",
    "print(\"Knn                : \",knn.score(X_test, y_test))\n",
    "print('SVM                : ',svm.score(X_test, y_test))\n",
    "print()\n",
    "print(\"Highest accuracy is for SVM Classifier \") "
   ]
  },
  {
   "cell_type": "code",
   "execution_count": null,
   "metadata": {},
   "outputs": [],
   "source": []
  },
  {
   "cell_type": "code",
   "execution_count": null,
   "metadata": {},
   "outputs": [],
   "source": []
  }
 ],
 "metadata": {
  "kernelspec": {
   "display_name": "Python 3",
   "language": "python",
   "name": "python3"
  },
  "language_info": {
   "codemirror_mode": {
    "name": "ipython",
    "version": 3
   },
   "file_extension": ".py",
   "mimetype": "text/x-python",
   "name": "python",
   "nbconvert_exporter": "python",
   "pygments_lexer": "ipython3",
   "version": "3.7.6"
  }
 },
 "nbformat": 4,
 "nbformat_minor": 4
}
